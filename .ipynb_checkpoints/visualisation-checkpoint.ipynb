{
 "cells": [
  {
   "cell_type": "code",
   "execution_count": 2,
   "metadata": {},
   "outputs": [],
   "source": [
    "# Imports\n",
    "import matplotlib\n",
    "import json"
   ]
  },
  {
   "cell_type": "code",
   "execution_count": 3,
   "metadata": {},
   "outputs": [],
   "source": [
    "# Load data from result files\n",
    "results_file = './results/results_5.json'\n",
    "summary_file = './results/summary.json'\n",
    "\n",
    "results = json.load(open(results_file))['results']\n",
    "summary = json.load(open(summary_file))"
   ]
  },
  {
   "cell_type": "code",
   "execution_count": 16,
   "metadata": {},
   "outputs": [
    {
     "name": "stdout",
     "output_type": "stream",
     "text": [
      "total: 29\n",
      "catogorized: 29\n",
      "uncategorized: 0\n"
     ]
    }
   ],
   "source": [
    "# Visualization for number of articles per category\n",
    "categories = summary['occurrences per category']\n",
    "total_results = sum(categories.values())\n",
    "\n",
    "categories.pop('Generic', None)\n",
    "categories.pop('Not about data ecosystems', None)\n",
    "categories.pop('Systematic Review', None)\n",
    "\n",
    "total_categorized_results = sum(categories.values())\n",
    "total_uncategorized_results = total_results - total_categorized_results\n",
    "\n",
    "print(f'total: {total_results}\\ncatogorized: {total_categorized_results}\\nuncategorized: {total_uncategorized_results}')\n",
    "\n",
    "\n"
   ]
  },
  {
   "cell_type": "code",
   "execution_count": null,
   "metadata": {},
   "outputs": [],
   "source": []
  }
 ],
 "metadata": {
  "kernelspec": {
   "display_name": "Python 3",
   "language": "python",
   "name": "python3"
  },
  "language_info": {
   "codemirror_mode": {
    "name": "ipython",
    "version": 3
   },
   "file_extension": ".py",
   "mimetype": "text/x-python",
   "name": "python",
   "nbconvert_exporter": "python",
   "pygments_lexer": "ipython3",
   "version": "3.6.4"
  }
 },
 "nbformat": 4,
 "nbformat_minor": 2
}
